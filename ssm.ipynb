{
  "cells": [
    {
      "cell_type": "code",
      "execution_count": 1,
      "metadata": {
        "colab": {
          "base_uri": "https://localhost:8080/"
        },
        "id": "M74tgUA2GT7I",
        "outputId": "14d544d5-f98b-4839-d87b-ddde48932464"
      },
      "outputs": [],
      "source": [
        "%pip install transformers\n",
        "import copy\n",
        "import torch\n",
        "import random\n",
        "import numpy as np\n",
        "import pandas as pd\n",
        "import math\n",
        "from torch.utils.data import TensorDataset\n",
        "from sklearn.model_selection import KFold\n",
        "from transformers import BertTokenizer, get_linear_schedule_with_warmup, BertForSequenceClassification, logging\n",
        "logging.set_verbosity_error()"
      ]
    },
    {
      "attachments": {},
      "cell_type": "markdown",
      "metadata": {
        "id": "P4yOcZVWJWap"
      },
      "source": [
        "# **Global Configuration**"
      ]
    },
    {
      "cell_type": "code",
      "execution_count": 2,
      "metadata": {
        "id": "ny3yIshfJiVb"
      },
      "outputs": [],
      "source": [
        "SEED = 20 # Global seed value for reproducibility\n",
        "random.seed(SEED)\n",
        "np.random.seed(SEED)\n",
        "torch.manual_seed(SEED)\n",
        "torch.cuda.manual_seed_all(SEED)\n",
        "\n",
        "# Conventional data loading settings\n",
        "TRAINING_PORTION = 0.8\n",
        "TESTING_PORTION = 0.2\n",
        "BATCH_SIZE = 32\n",
        "NUM_EPOCHS = 6\n",
        "\n",
        "# K-Fold cross validation settings\n",
        "N_SPLITS = int(1/(TESTING_PORTION))\n",
        "KFOLD_SHUFFLE = True\n",
        "\n",
        "PROJECT_DIR = '/content/drive/MyDrive/BERT_SIZE_MEASUREMENT'\n",
        "MODEL_NAME = \"bert-base-uncased\"\n",
        "\n",
        "if MODEL_NAME == 'bert-base-uncased':\n",
        "    MODEL_PATH = MODEL_NAME\n",
        "    TOKENIZER_PATH = MODEL_NAME\n",
        "else:\n",
        "    MODEL_PATH = PROJECT_DIR + '/' + MODEL_NAME\n",
        "    TOKENIZER_PATH = PROJECT_DIR + '/' + MODEL_NAME\n",
        "\n",
        "DATA_DIR = PROJECT_DIR + '/data'\n",
        "DATASET_FILE = DATA_DIR + '/UserStory_1007.csv'\n",
        "TARGET_COL = 'cosmic_read'\n",
        "INPUT_COL = 'sample_description'\n",
        "SAVE_METRIC = 'ACCURACY' # models will be saved based on this metric (ACCURACY or PRED30 or MSE)"
      ]
    },
    {
      "cell_type": "code",
      "execution_count": null,
      "metadata": {},
      "outputs": [],
      "source": [
        "from google.colab import drive\n",
        "drive.mount('/content/drive')"
      ]
    },
    {
      "attachments": {},
      "cell_type": "markdown",
      "metadata": {
        "id": "8E9hi517NaeA"
      },
      "source": [
        "**Initialize the CUDA device**"
      ]
    },
    {
      "cell_type": "code",
      "execution_count": null,
      "metadata": {
        "colab": {
          "base_uri": "https://localhost:8080/"
        },
        "id": "RBRMJo4xNZLX",
        "outputId": "7a3146cd-2a4c-45ac-9394-3f682af8dda5"
      },
      "outputs": [],
      "source": [
        "if torch.cuda.is_available():\n",
        "  device = torch.device('cuda')\n",
        "  print('Number of available GPUs: {}'.format(torch.cuda.device_count()))\n",
        "  print('Active GPU: {}'.format(torch.cuda.get_device_name(0)))\n",
        "else:\n",
        "  device = torch.device('cpu')\n",
        "  print('GPU resource was not found. Using CPU resource.')"
      ]
    },
    {
      "attachments": {},
      "cell_type": "markdown",
      "metadata": {
        "id": "ac0H-jXegvW8"
      },
      "source": [
        "# **Model Preparation**"
      ]
    },
    {
      "cell_type": "code",
      "execution_count": null,
      "metadata": {
        "colab": {
          "base_uri": "https://localhost:8080/"
        },
        "id": "RYz2qzW3gzvF",
        "outputId": "50c80f40-4e14-41ac-b62b-f76d7427051b"
      },
      "outputs": [],
      "source": [
        "def initialize_model():\n",
        "    return BertForSequenceClassification.from_pretrained(MODEL_PATH, num_labels = 1)\n",
        "\n",
        "model = initialize_model()\n",
        "model.to(device)"
      ]
    },
    {
      "attachments": {},
      "cell_type": "markdown",
      "metadata": {
        "id": "8fv1MHNSLC6G"
      },
      "source": [
        "# **Dataset Preparation**"
      ]
    },
    {
      "cell_type": "code",
      "execution_count": null,
      "metadata": {
        "colab": {
          "base_uri": "https://localhost:8080/",
          "height": 459
        },
        "id": "2CB0IdWrLPII",
        "outputId": "3ad003eb-2209-4941-910e-5729ff74d3d4"
      },
      "outputs": [],
      "source": [
        "# Load dataset file as pandas dataframe\n",
        "dataset = pd.read_csv(DATASET_FILE, delimiter=',')\n",
        "print(\"Total Samples: {}\".format(dataset.shape[0]))\n",
        "\n",
        "dataset = dataset[[INPUT_COL, TARGET_COL]]\n",
        "dataset[TARGET_COL] = dataset[TARGET_COL].fillna(0)  # Fill NA values with zero\n",
        "dataset[TARGET_COL] = dataset[TARGET_COL].astype(int)\n",
        "print(\"Total Valid Samples: {}\".format(len(dataset)))\n",
        "\n",
        "display(dataset)\n",
        "\n",
        "result_dataset = dataset.copy()\n",
        "result_dataset[\"prediction\"] = None\n"
      ]
    },
    {
      "attachments": {},
      "cell_type": "markdown",
      "metadata": {
        "id": "qeAomdYfmXVJ"
      },
      "source": [
        "**Split the description and measurement columns for processing**"
      ]
    },
    {
      "cell_type": "code",
      "execution_count": null,
      "metadata": {
        "colab": {
          "base_uri": "https://localhost:8080/"
        },
        "id": "GAkAWGOXmkp5",
        "outputId": "821f8399-77b3-450f-9b72-3da0eb5980b8"
      },
      "outputs": [],
      "source": [
        "inputs = dataset[INPUT_COL].values.astype(\"str\")\n",
        "# Convert line breaks to the spaces\n",
        "inputs = [input.strip().replace(\"\\n\",\" \") for input in inputs]\n",
        "targets = dataset[TARGET_COL].values\n",
        "CALCULATE_MRE = all(dataset[TARGET_COL] > 0)\n",
        "print(\"Calculate MRE =\", CALCULATE_MRE)"
      ]
    },
    {
      "attachments": {},
      "cell_type": "markdown",
      "metadata": {
        "id": "QJ6FS0ypnRKT"
      },
      "source": [
        "**Encode samples and create a TensorDataset**"
      ]
    },
    {
      "cell_type": "code",
      "execution_count": 7,
      "metadata": {
        "colab": {
          "base_uri": "https://localhost:8080/"
        },
        "id": "5dJk5exUoJnY",
        "outputId": "1e47d396-f275-4e51-94d9-68efa764fc61"
      },
      "outputs": [
        {
          "name": "stdout",
          "output_type": "stream",
          "text": [
            "Max input length: 95\n"
          ]
        }
      ],
      "source": [
        "tokenizer = BertTokenizer.from_pretrained(TOKENIZER_PATH)\n",
        "\n",
        "# Find the max sample length\n",
        "max_input_length = 0\n",
        "for input in inputs:\n",
        "  input_ids = tokenizer.encode(input, add_special_tokens=True)\n",
        "  max_input_length = max(max_input_length, len(input_ids))\n",
        "\n",
        "print(\"Max input length: {}\".format(max_input_length))"
      ]
    },
    {
      "cell_type": "code",
      "execution_count": 8,
      "metadata": {
        "id": "y4ThWxPMraLD"
      },
      "outputs": [],
      "source": [
        "input_ids = []\n",
        "attention_masks = []\n",
        "\n",
        "for input in inputs:\n",
        "  encoded_input = tokenizer.encode_plus(input,\n",
        "                                         add_special_tokens=True,\n",
        "                                         max_length=max_input_length,\n",
        "                                         truncation=True,\n",
        "                                         padding=\"max_length\",\n",
        "                                         return_attention_mask=True,\n",
        "                                         return_tensors='pt',)\n",
        "  input_ids.append(encoded_input[\"input_ids\"])\n",
        "  attention_masks.append(encoded_input[\"attention_mask\"])\n",
        "\n",
        "input_ids = torch.cat(input_ids, dim=0)\n",
        "attention_masks = torch.cat(attention_masks, dim=0)\n",
        "labels = torch.tensor(targets, dtype=torch.float)\n",
        "dataset = TensorDataset(input_ids, attention_masks, labels)"
      ]
    },
    {
      "attachments": {},
      "cell_type": "markdown",
      "metadata": {
        "id": "qGvgHXsF0qZT"
      },
      "source": [
        "# **Training & Evaluation Functions**"
      ]
    },
    {
      "cell_type": "code",
      "execution_count": 9,
      "metadata": {
        "id": "qcdwwtl-0-5-"
      },
      "outputs": [],
      "source": [
        "def train(model, optimizer, scheduler, train_loader):\n",
        "    model.train()\n",
        "    total_loss = 0\n",
        "    for batch in train_loader:\n",
        "        model.zero_grad()\n",
        "        input_ids = batch[0].to(device)\n",
        "        attention_mask = batch[1].to(device)\n",
        "        labels = batch[2].to(device)\n",
        "        output = model(input_ids, attention_mask=attention_mask, labels=labels)\n",
        "        total_loss += output.loss.item()\n",
        "        output.loss.backward()\n",
        "        optimizer.step()\n",
        "        scheduler.step()\n",
        "    return total_loss / len(train_loader)\n",
        "\n",
        "def evaluate(model, data_loader, criterion):\n",
        "    model.eval()\n",
        "    total_loss = 0\n",
        "    total_accuracy = 0\n",
        "    label_data = []\n",
        "    prediction_data = []\n",
        "\n",
        "    with torch.no_grad():\n",
        "        for batch in data_loader:\n",
        "            input_ids = batch[0].to(device)\n",
        "            attention_mask = batch[1].to(device)\n",
        "            labels = batch[2].to(device)\n",
        "            output = model(input_ids, attention_mask=attention_mask, labels=labels)\n",
        "            loss = criterion(output.logits.squeeze(-1), labels.float())\n",
        "            total_loss += loss.item()\n",
        "            logits = output.logits.to('cpu').numpy()\n",
        "            label_ids = labels.to('cpu').numpy()\n",
        "            label_data += label_ids.tolist()\n",
        "            prediction_data += logits.flatten().tolist()\n",
        "\n",
        "    return label_data, prediction_data, total_loss / len(data_loader)"
      ]
    },
    {
      "cell_type": "code",
      "execution_count": null,
      "metadata": {
        "colab": {
          "base_uri": "https://localhost:8080/"
        },
        "id": "QCIhNSucpLEU",
        "outputId": "cbd1fbe8-4db2-4bb8-8eda-4662dbe603c1"
      },
      "outputs": [],
      "source": [
        "folder_name = MODEL_NAME + \"-\" + DATASET_FILE.split(\"/\")[-1].split(\".\")[0] + \"-\" + TARGET_COL\n",
        "results_folder = PROJECT_DIR + \"/results/\" + folder_name\n",
        "print(results_folder)\n",
        "!mkdir -p {results_folder}"
      ]
    },
    {
      "attachments": {},
      "cell_type": "markdown",
      "metadata": {
        "id": "juUJkrcb1TdX"
      },
      "source": [
        "# **Run Cross-Validation**"
      ]
    },
    {
      "cell_type": "code",
      "execution_count": null,
      "metadata": {
        "id": "Xd67-Ero1oaI"
      },
      "outputs": [],
      "source": [
        "kf = KFold(n_splits=N_SPLITS, random_state=SEED, shuffle=KFOLD_SHUFFLE)\n",
        "\n",
        "out = \"\"\n",
        "\n",
        "model_name = \"              Model Name: {}\".format(MODEL_NAME)\n",
        "out += model_name+\"\\n\"\n",
        "print(model_name)\n",
        "\n",
        "number_of_splits = \"        Number of Splits: {}\".format(N_SPLITS)\n",
        "out += number_of_splits+\"\\n\"\n",
        "print(number_of_splits)\n",
        "\n",
        "shuffle = \"                 Shuffle: {}\".format(KFOLD_SHUFFLE)\n",
        "out += shuffle+\"\\n\"\n",
        "print(shuffle)\n",
        "\n",
        "pred30s = []\n",
        "mres = []\n",
        "mses = []\n",
        "maes = []\n",
        "nmaes = []\n",
        "\n",
        "overall_min_mse = 999999\n",
        "overall_max_pred30 = -1\n",
        "overall_max_accuracy = -1\n",
        "overall_best_model = None\n",
        "\n",
        "for fold, (train_index, test_index) in enumerate(kf.split(dataset)):\n",
        "  # RESET WEIGHTS IN EACH FOLD:\n",
        "  model = initialize_model().to(device)\n",
        "  criterion = torch.nn.MSELoss()\n",
        "  optimizer = torch.optim.AdamW(model.parameters(), lr=5e-5, eps=1e-8)\n",
        "\n",
        "  # GENERATE DATALOADERS IN EACH FOLD:\n",
        "  train_subset = torch.utils.data.Subset(dataset, train_index)\n",
        "  test_subset = torch.utils.data.Subset(dataset, test_index)\n",
        "  train_dataloader = torch.utils.data.DataLoader(train_subset, batch_size=BATCH_SIZE, shuffle=True)\n",
        "  test_dataloader = torch.utils.data.DataLoader(test_subset, batch_size=BATCH_SIZE, shuffle=False)\n",
        "\n",
        "  total_steps = len(train_dataloader) * NUM_EPOCHS\n",
        "  scheduler = get_linear_schedule_with_warmup(optimizer, num_warmup_steps=0, num_training_steps=total_steps)\n",
        "\n",
        "  fold_text = \"\\n                    FOLD: {}\\n\".format(fold+1)\n",
        "  out += fold_text + \"\\n\"\n",
        "  print(fold_text)\n",
        "\n",
        "  fold_min_mse = 999999\n",
        "  fold_max_pred30 = -1\n",
        "  fold_max_accuracy = -1\n",
        "  results = []\n",
        "\n",
        "  for epoch in range(NUM_EPOCHS):\n",
        "      train_loss = train(model, optimizer, scheduler, train_dataloader)\n",
        "      labels, preds, test_loss = evaluate(model, test_dataloader, criterion)\n",
        "\n",
        "      result = pd.DataFrame.from_dict({\"label\": labels, \"prediction\": preds})\n",
        "      ses = [math.pow(preds[i]-labels[i], 2) for i in range(len(preds))]\n",
        "      aes = [np.abs(preds[i]-labels[i]) for i in range(len(preds))]\n",
        "      mse = np.mean(ses)\n",
        "      mae = np.mean(aes)\n",
        "      nmae = mae / np.mean(labels)\n",
        "      rounded_preds = [round(pred) for pred in preds]\n",
        "      accuracy = sum([1 for i in range(len(preds)) if rounded_preds[i] == labels[i]]) / len(preds)\n",
        "      result = {\"epoch\": epoch+1, \"train_loss\": train_loss, \"test_loss\": test_loss, \"mse\": mse, \"mae\": mae, \"nmae\": nmae, \"accuracy\": accuracy}\n",
        "      epoch_text = f\"Epoch {epoch+1}:  train_loss={train_loss:.4f}  test_loss={test_loss:.4f}  test_mae={mae:.4f}  test_nmae={nmae:.4f}  test_mse={mse:.4f}  test_accuracy={accuracy:.4f}\"\n",
        "\n",
        "\n",
        "      if CALCULATE_MRE:\n",
        "        res = [(np.abs(preds[i]-labels[i]) / labels[i]) for i in range(len(preds))]\n",
        "        resUnder30 = [re for re in res if re < 0.3]\n",
        "        pred30 = len(resUnder30)/len(res)\n",
        "        mre = np.mean(res)\n",
        "        result[\"mre\"] = mre\n",
        "        result[\"pred30\"] = pred30\n",
        "        epoch_text += f\"  test_mre={mre:.4f}  test_pred30={pred30:.4f}\"\n",
        "\n",
        "      if CALCULATE_MRE and SAVE_METRIC == \"PRED30\":\n",
        "        # save model based on PRED30\n",
        "        if pred30 > fold_max_pred30:\n",
        "          # use the predictions of this epoch\n",
        "          fold_max_pred30 = pred30\n",
        "          for i, index in enumerate(test_index):\n",
        "            result_dataset.at[index, \"prediction\"] = preds[i]\n",
        "\n",
        "        if pred30 > overall_max_pred30:\n",
        "          # select this epoch as the best model\n",
        "          overall_max_pred30 = pred30\n",
        "          overall_best_model = copy.deepcopy(model)\n",
        "          print(f\"New overall max PRED30 ({pred30}). Saving as the best model...\")\n",
        "\n",
        "      elif SAVE_METRIC == \"MSE\":\n",
        "        # save model based on MSE\n",
        "        if mse < fold_min_mse:\n",
        "          fold_min_mse = mse\n",
        "          for i, index in enumerate(test_index):\n",
        "            result_dataset.at[index, \"prediction\"] = preds[i]\n",
        "        if test_loss < overall_min_mse:\n",
        "          overall_min_mse = test_loss\n",
        "          overall_best_model = copy.deepcopy(model)\n",
        "          print(f\"New overall min MSE ({mse}). Saving as the best model...\")\n",
        "      \n",
        "      elif SAVE_METRIC == \"ACCURACY\":\n",
        "        # save model based on accuracy\n",
        "        if accuracy > fold_max_accuracy:\n",
        "          fold_max_accuracy = accuracy\n",
        "          for i, index in enumerate(test_index):\n",
        "            result_dataset.at[index, \"prediction\"] = preds[i]\n",
        "        if accuracy > overall_max_accuracy:\n",
        "          overall_max_accuracy = accuracy\n",
        "          overall_best_model = copy.deepcopy(model)\n",
        "          print(f\"New overall max accuracy ({accuracy}). Saving as the best model...\")\n",
        "\n",
        "      results.append(result)\n",
        "      out += epoch_text + \"\\n\"\n",
        "      print(epoch_text)\n",
        "\n",
        "  if CALCULATE_MRE:\n",
        "    max_pred30 = 0\n",
        "    max_index = -1\n",
        "    for i, result in enumerate(results):\n",
        "      if result[\"pred30\"] > max_pred30:\n",
        "        max_pred30 = result[\"pred30\"]\n",
        "        max_index = i\n",
        "\n",
        "    pred30s.append(results[max_index][\"pred30\"])\n",
        "    mres.append(results[max_index][\"mre\"])\n",
        "    mses.append(results[max_index][\"mse\"])\n",
        "    maes.append(results[max_index][\"mae\"])\n",
        "    nmaes.append(results[max_index][\"nmae\"])\n",
        "  else:\n",
        "    min_mse = 0\n",
        "    min_index = -1\n",
        "    for i, result in enumerate(results):\n",
        "      if result[\"mse\"] < min_mse:\n",
        "        min_mse = result[\"mse\"]\n",
        "        min_index = i\n",
        "    mses.append(results[min_index][\"mse\"])\n",
        "    maes.append(results[min_index][\"mae\"])\n",
        "    nmaes.append(results[min_index][\"nmae\"])"
      ]
    },
    {
      "attachments": {},
      "cell_type": "markdown",
      "metadata": {},
      "source": [
        "## PRINT AVERAGES"
      ]
    },
    {
      "cell_type": "code",
      "execution_count": null,
      "metadata": {},
      "outputs": [],
      "source": [
        "out_footer = \"\"\n",
        "print()\n",
        "\n",
        "mae_text= f\"   Average MAE: {np.mean(maes):.4f}\"\n",
        "out_footer += mae_text+\"\\n\"\n",
        "nmae_text= f\"  Average NMAE: {np.mean(nmaes):.4f}\"\n",
        "out_footer += nmae_text+\"\\n\"\n",
        "mse_text= f\"   Average MSE: {np.mean(mses):.4f}\"\n",
        "out_footer += mse_text+\"\\n\"\n",
        "mae_over_mean_text= f\"      MAE/Mean: {np.mean(maes)/np.mean(targets):.4f}\"\n",
        "out_footer += mae_over_mean_text+\"\\n\"\n",
        "\n",
        "if CALCULATE_MRE:\n",
        "  mre_text= f\"   Average MRE: {np.mean(mres):.4f}\"\n",
        "  out_footer += mre_text+\"\\n\"\n",
        "  pred30_text= f\"Average PRED30: {np.mean(pred30s):.4f}\"\n",
        "  out_footer += pred30_text+\"\\n\"\n",
        "\n",
        "predictions = result_dataset[\"prediction\"].values\n",
        "rounded_predictions = [round(pred) for pred in predictions]\n",
        "actuals = result_dataset[TARGET_COL].values\n",
        "accuracy = np.mean(rounded_predictions == actuals)\n",
        "accuracy_text = f\"      Accuracy: {accuracy:.4f}\"\n",
        "out_footer += accuracy_text\n",
        "\n",
        "print(\"         Model:\", MODEL_NAME)\n",
        "print(\"        Target:\", TARGET_COL)\n",
        "print(\"  Dataset Size:\", len(dataset))\n",
        "print(\"  Num of Folds:\", N_SPLITS)\n",
        "print(out_footer)\n"
      ]
    },
    {
      "cell_type": "code",
      "execution_count": null,
      "metadata": {
        "id": "96v2VYz_jI7s"
      },
      "outputs": [],
      "source": [
        "f = open(results_folder+\"/result.txt\", \"w+\")\n",
        "f.write(out + out_footer)\n",
        "f.close()\n",
        "print(\"RUN FINISHED...\")"
      ]
    },
    {
      "cell_type": "code",
      "execution_count": null,
      "metadata": {
        "id": "hPJFOjB2bZ8A"
      },
      "outputs": [],
      "source": [
        "result_dataset.to_csv(results_folder + \"/predictions.csv\", index=False)\n",
        "print(\"PREDICTIONS SAVED FINISHED...\")\n",
        "overall_best_model.save_pretrained(results_folder + \"/{}_{:.4f}\".format(folder_name, accuracy))\n",
        "print(\"MODEL SAVED FINISHED...\")"
      ]
    },
    {
      "attachments": {},
      "cell_type": "markdown",
      "metadata": {},
      "source": [
        "## Merge all predictions.csv under /results/*\n"
      ]
    },
    {
      "cell_type": "code",
      "execution_count": null,
      "metadata": {},
      "outputs": [],
      "source": [
        "import os\n",
        "import pandas as pd\n",
        "PROJECT_DIR = '.'\n",
        "results_folder = PROJECT_DIR + \"/results\"\n",
        "folders = os.listdir(results_folder)\n",
        "folders = [folder for folder in folders if folder.startswith(\"BERT\") or folder.startswith(\"bert\")]\n",
        "folders = sorted(folders)\n",
        "for f in folders:\n",
        "    print(f)\n",
        "\n",
        "dfs = []\n",
        "for folder in folders:\n",
        "  folder_path = results_folder + \"/\" + folder\n",
        "  prediction_file = folder_path + \"/predictions.csv\"\n",
        "  df = pd.read_csv(prediction_file)\n",
        "  # get only the predictions column\n",
        "  df = df.iloc[:,2]\n",
        "  dfs.append(df)\n",
        "\n",
        "new_col_names = []\n",
        "for f in folders:\n",
        "    new_col_names.append(f.split(\"UserStory_1007-\")[0] + f.split(\"UserStory_1007-\")[1])\n",
        "\n",
        "merged_df = pd.concat(dfs, axis=1)\n",
        "merged_df.columns = new_col_names\n",
        "merged_df.to_csv(results_folder + \"/merged_predictions.csv\", index=False)\n",
        "print(\"MERGED PREDICTIONS SAVED FINISHED...\")\n"
      ]
    }
  ],
  "metadata": {
    "accelerator": "GPU",
    "colab": {
      "gpuType": "T4",
      "provenance": []
    },
    "kernelspec": {
      "display_name": "Python 3",
      "name": "python3"
    },
    "language_info": {
      "codemirror_mode": {
        "name": "ipython",
        "version": 3
      },
      "file_extension": ".py",
      "mimetype": "text/x-python",
      "name": "python",
      "nbconvert_exporter": "python",
      "pygments_lexer": "ipython3",
      "version": "3.8.16"
    }
  },
  "nbformat": 4,
  "nbformat_minor": 0
}
